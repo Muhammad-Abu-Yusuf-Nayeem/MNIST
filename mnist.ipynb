{
 "cells": [
  {
   "cell_type": "code",
   "execution_count": 1,
   "id": "f5667a73",
   "metadata": {
    "_cell_guid": "b1076dfc-b9ad-4769-8c92-a6c4dae69d19",
    "_uuid": "8f2839f25d086af736a60e9eeb907d3b93b6e0e5",
    "execution": {
     "iopub.execute_input": "2024-08-28T19:15:35.235842Z",
     "iopub.status.busy": "2024-08-28T19:15:35.235440Z",
     "iopub.status.idle": "2024-08-28T19:15:36.016327Z",
     "shell.execute_reply": "2024-08-28T19:15:36.015466Z"
    },
    "papermill": {
     "duration": 0.790031,
     "end_time": "2024-08-28T19:15:36.018624",
     "exception": false,
     "start_time": "2024-08-28T19:15:35.228593",
     "status": "completed"
    },
    "tags": []
   },
   "outputs": [],
   "source": [
    "# This Python 3 environment comes with many helpful analytics libraries installed\n",
    "# It is defined by the kaggle/python Docker image: https://github.com/kaggle/docker-python\n",
    "# For example, here's several helpful packages to load\n",
    "\n",
    "import numpy as np # linear algebra\n",
    "import pandas as pd # data processing, CSV file I/O (e.g. pd.read_csv)\n",
    "\n",
    "# Input data files are available in the read-only \"../input/\" directory\n",
    "# For example, running this (by clicking run or pressing Shift+Enter) will list all files under the input directory\n",
    "\n",
    "import os\n",
    "\n",
    "# You can write up to 20GB to the current directory (/kaggle/working/) that gets preserved as output when you create a version using \"Save & Run All\" \n",
    "# You can also write temporary files to /kaggle/temp/, but they won't be saved outside of the current session"
   ]
  },
  {
   "cell_type": "markdown",
   "id": "9074f70f",
   "metadata": {
    "papermill": {
     "duration": 0.00438,
     "end_time": "2024-08-28T19:15:36.028215",
     "exception": false,
     "start_time": "2024-08-28T19:15:36.023835",
     "status": "completed"
    },
    "tags": []
   },
   "source": [
    "# **Import library**"
   ]
  },
  {
   "cell_type": "code",
   "execution_count": 2,
   "id": "fc5c323d",
   "metadata": {
    "execution": {
     "iopub.execute_input": "2024-08-28T19:15:36.038768Z",
     "iopub.status.busy": "2024-08-28T19:15:36.037960Z",
     "iopub.status.idle": "2024-08-28T19:15:41.139497Z",
     "shell.execute_reply": "2024-08-28T19:15:41.138589Z"
    },
    "papermill": {
     "duration": 5.109405,
     "end_time": "2024-08-28T19:15:41.142054",
     "exception": false,
     "start_time": "2024-08-28T19:15:36.032649",
     "status": "completed"
    },
    "tags": []
   },
   "outputs": [],
   "source": [
    "import torch\n",
    "import torch.nn as nn\n",
    "import torch.optim as optim\n",
    "import torchvision\n",
    "import torchvision.transforms as transforms\n",
    "\n",
    "# Define the transform to preprocess the images\n",
    "transform = transforms.Compose([\n",
    "    transforms.Grayscale(),\n",
    "    transforms.Resize((28, 28)),\n",
    "    transforms.ToTensor(),\n",
    "    transforms.Normalize((0.5,), (0.5,))\n",
    "])"
   ]
  },
  {
   "cell_type": "markdown",
   "id": "d0a4afc0",
   "metadata": {
    "papermill": {
     "duration": 0.004411,
     "end_time": "2024-08-28T19:15:41.151477",
     "exception": false,
     "start_time": "2024-08-28T19:15:41.147066",
     "status": "completed"
    },
    "tags": []
   },
   "source": [
    "# split train and validation images"
   ]
  },
  {
   "cell_type": "code",
   "execution_count": 3,
   "id": "ae1d6f4f",
   "metadata": {
    "execution": {
     "iopub.execute_input": "2024-08-28T19:15:41.162913Z",
     "iopub.status.busy": "2024-08-28T19:15:41.161895Z",
     "iopub.status.idle": "2024-08-28T19:15:58.978434Z",
     "shell.execute_reply": "2024-08-28T19:15:58.977347Z"
    },
    "papermill": {
     "duration": 17.824799,
     "end_time": "2024-08-28T19:15:58.981082",
     "exception": false,
     "start_time": "2024-08-28T19:15:41.156283",
     "status": "completed"
    },
    "tags": []
   },
   "outputs": [],
   "source": [
    "import os\n",
    "# Load the training dataset\n",
    "train_dataset = torchvision.datasets.ImageFolder(\n",
    "    root=os.path.join('/kaggle/input/mnist-dataset/MNIST Dataset JPG format/MNIST - JPG - training'),\n",
    "    transform=transform\n",
    ")\n",
    "\n",
    "# Split the dataset into training and validation sets\n",
    "train_size = int(0.8 * len(train_dataset))\n",
    "val_size = len(train_dataset) - train_size\n",
    "train_dataset, val_dataset = torch.utils.data.random_split(train_dataset, [train_size, val_size])\n",
    "\n",
    "\n"
   ]
  },
  {
   "cell_type": "markdown",
   "id": "af6a5ae0",
   "metadata": {
    "papermill": {
     "duration": 0.005895,
     "end_time": "2024-08-28T19:15:58.992986",
     "exception": false,
     "start_time": "2024-08-28T19:15:58.987091",
     "status": "completed"
    },
    "tags": []
   },
   "source": [
    "# Create data loaders for training and validation"
   ]
  },
  {
   "cell_type": "code",
   "execution_count": 4,
   "id": "286b4360",
   "metadata": {
    "execution": {
     "iopub.execute_input": "2024-08-28T19:15:59.006596Z",
     "iopub.status.busy": "2024-08-28T19:15:59.005559Z",
     "iopub.status.idle": "2024-08-28T19:15:59.015831Z",
     "shell.execute_reply": "2024-08-28T19:15:59.014734Z"
    },
    "papermill": {
     "duration": 0.019152,
     "end_time": "2024-08-28T19:15:59.018012",
     "exception": false,
     "start_time": "2024-08-28T19:15:58.998860",
     "status": "completed"
    },
    "tags": []
   },
   "outputs": [
    {
     "name": "stderr",
     "output_type": "stream",
     "text": [
      "/opt/conda/lib/python3.10/site-packages/torch/utils/data/dataloader.py:557: UserWarning: This DataLoader will create 64 worker processes in total. Our suggested max number of worker in current system is 4, which is smaller than what this DataLoader is going to create. Please be aware that excessive worker creation might get DataLoader running slow or even freeze, lower the worker number to avoid potential slowness/freeze if necessary.\n",
      "  warnings.warn(_create_warning_msg(\n"
     ]
    }
   ],
   "source": [
    "# Create data loaders for training and validation\n",
    "train_loader = torch.utils.data.DataLoader(\n",
    "    train_dataset,\n",
    "    batch_size=1024,\n",
    "    shuffle=False,\n",
    "    num_workers=64\n",
    ")\n",
    "\n",
    "val_loader = torch.utils.data.DataLoader(\n",
    "    val_dataset,\n",
    "    batch_size=1024,\n",
    "    shuffle=False,\n",
    "    num_workers=64\n",
    ")"
   ]
  },
  {
   "cell_type": "markdown",
   "id": "0761452f",
   "metadata": {
    "papermill": {
     "duration": 0.004817,
     "end_time": "2024-08-28T19:15:59.027719",
     "exception": false,
     "start_time": "2024-08-28T19:15:59.022902",
     "status": "completed"
    },
    "tags": []
   },
   "source": [
    "# Load the testing dataset"
   ]
  },
  {
   "cell_type": "code",
   "execution_count": 5,
   "id": "6ff2e18e",
   "metadata": {
    "execution": {
     "iopub.execute_input": "2024-08-28T19:15:59.039116Z",
     "iopub.status.busy": "2024-08-28T19:15:59.038712Z",
     "iopub.status.idle": "2024-08-28T19:15:59.748073Z",
     "shell.execute_reply": "2024-08-28T19:15:59.747208Z"
    },
    "papermill": {
     "duration": 0.717984,
     "end_time": "2024-08-28T19:15:59.750550",
     "exception": false,
     "start_time": "2024-08-28T19:15:59.032566",
     "status": "completed"
    },
    "tags": []
   },
   "outputs": [],
   "source": [
    "# Load the testing dataset\n",
    "test_dataset = torchvision.datasets.ImageFolder(\n",
    "    root=os.path.join('/kaggle/input/mnist-dataset/MNIST Dataset JPG format/MNIST - JPG - testing'),\n",
    "    transform=transform\n",
    ")\n",
    "\n",
    "test_loader = torch.utils.data.DataLoader(\n",
    "    test_dataset,\n",
    "    batch_size=256,\n",
    "    shuffle=False,\n",
    "    num_workers=64\n",
    ")"
   ]
  },
  {
   "cell_type": "markdown",
   "id": "c494592d",
   "metadata": {
    "papermill": {
     "duration": 0.004502,
     "end_time": "2024-08-28T19:15:59.760554",
     "exception": false,
     "start_time": "2024-08-28T19:15:59.756052",
     "status": "completed"
    },
    "tags": []
   },
   "source": [
    "# Define the model architecture"
   ]
  },
  {
   "cell_type": "code",
   "execution_count": 6,
   "id": "4b576bb5",
   "metadata": {
    "execution": {
     "iopub.execute_input": "2024-08-28T19:15:59.771698Z",
     "iopub.status.busy": "2024-08-28T19:15:59.771333Z",
     "iopub.status.idle": "2024-08-28T19:15:59.780133Z",
     "shell.execute_reply": "2024-08-28T19:15:59.779190Z"
    },
    "papermill": {
     "duration": 0.01683,
     "end_time": "2024-08-28T19:15:59.782212",
     "exception": false,
     "start_time": "2024-08-28T19:15:59.765382",
     "status": "completed"
    },
    "tags": []
   },
   "outputs": [],
   "source": [
    "# Define the model architecture\n",
    "class Net(nn.Module):\n",
    "    def __init__(self):\n",
    "        super(Net, self).__init__()\n",
    "        self.conv1 = nn.Conv2d(1, 32, 3, 1)\n",
    "        self.conv2 = nn.Conv2d(32, 64, 3, 1)\n",
    "        self.fc1 = nn.Linear(5 * 5 * 64, 64)  # Update the input size\n",
    "        self.fc2 = nn.Linear(64, 10)\n",
    "\n",
    "    def forward(self, x):\n",
    "        x = nn.functional.relu(self.conv1(x))\n",
    "        x = nn.functional.max_pool2d(x, 2)\n",
    "        x = nn.functional.relu(self.conv2(x))\n",
    "        x = nn.functional.max_pool2d(x, 2)\n",
    "        x = x.view(-1, 5 * 5 * 64)  # Update the view size\n",
    "        x = nn.functional.relu(self.fc1(x))\n",
    "        x = self.fc2(x)\n",
    "        return nn.functional.softmax(x, dim=1)"
   ]
  },
  {
   "cell_type": "markdown",
   "id": "fcbfc648",
   "metadata": {
    "papermill": {
     "duration": 0.004483,
     "end_time": "2024-08-28T19:15:59.791454",
     "exception": false,
     "start_time": "2024-08-28T19:15:59.786971",
     "status": "completed"
    },
    "tags": []
   },
   "source": [
    "# Create an instance of the model\n",
    "# Define the loss function and optimizer\n",
    "# Train the model"
   ]
  },
  {
   "cell_type": "markdown",
   "id": "930a099c",
   "metadata": {
    "papermill": {
     "duration": 0.004397,
     "end_time": "2024-08-28T19:15:59.800665",
     "exception": false,
     "start_time": "2024-08-28T19:15:59.796268",
     "status": "completed"
    },
    "tags": []
   },
   "source": [
    "# Plotting the outputs"
   ]
  },
  {
   "cell_type": "code",
   "execution_count": 7,
   "id": "2cd881b6",
   "metadata": {
    "execution": {
     "iopub.execute_input": "2024-08-28T19:15:59.811504Z",
     "iopub.status.busy": "2024-08-28T19:15:59.811154Z",
     "iopub.status.idle": "2024-08-28T19:37:16.103488Z",
     "shell.execute_reply": "2024-08-28T19:37:16.102387Z"
    },
    "papermill": {
     "duration": 1276.300311,
     "end_time": "2024-08-28T19:37:16.105768",
     "exception": false,
     "start_time": "2024-08-28T19:15:59.805457",
     "status": "completed"
    },
    "tags": []
   },
   "outputs": [
    {
     "name": "stdout",
     "output_type": "stream",
     "text": [
      "Epoch 1/100, Loss: 3.6852797853185777, Accuracy: 0.6360208333333334\n",
      "Epoch 2/100, Loss: 3.2086341634709785, Accuracy: 0.8588125\n",
      "Epoch 3/100, Loss: 3.046925078047083, Accuracy: 0.9419375\n",
      "Epoch 4/100, Loss: 2.9822305719903173, Accuracy: 0.9726666666666667\n",
      "Epoch 5/100, Loss: 2.972431482152736, Accuracy: 0.9774166666666667\n",
      "Epoch 6/100, Loss: 2.964639775296475, Accuracy: 0.9809583333333334\n",
      "Epoch 7/100, Loss: 2.9582746231809574, Accuracy: 0.983375\n",
      "Epoch 8/100, Loss: 2.955203025899035, Accuracy: 0.984875\n",
      "Epoch 9/100, Loss: 2.951141854549976, Accuracy: 0.98675\n",
      "Epoch 10/100, Loss: 2.949504446476064, Accuracy: 0.987625\n",
      "Epoch 11/100, Loss: 2.947816240026596, Accuracy: 0.9882708333333333\n",
      "Epoch 12/100, Loss: 2.946440240170093, Accuracy: 0.988875\n",
      "Epoch 13/100, Loss: 2.9430526317434107, Accuracy: 0.99025\n",
      "Epoch 14/100, Loss: 2.941684124317575, Accuracy: 0.9913125\n",
      "Epoch 15/100, Loss: 2.938866194258345, Accuracy: 0.992625\n",
      "Epoch 16/100, Loss: 2.9387727088116584, Accuracy: 0.9925\n",
      "Epoch 17/100, Loss: 2.938999353571141, Accuracy: 0.9922916666666667\n",
      "Epoch 18/100, Loss: 2.937855101646261, Accuracy: 0.9928125\n",
      "Epoch 19/100, Loss: 2.937576212781541, Accuracy: 0.9931458333333333\n",
      "Epoch 20/100, Loss: 2.936945260839259, Accuracy: 0.9933333333333333\n",
      "Epoch 21/100, Loss: 2.937632332456873, Accuracy: 0.9928958333333333\n",
      "Epoch 22/100, Loss: 2.936773016097698, Accuracy: 0.9934375\n",
      "Epoch 23/100, Loss: 2.9359842056923724, Accuracy: 0.9937708333333334\n",
      "Epoch 24/100, Loss: 2.935404310835169, Accuracy: 0.9938958333333333\n",
      "Epoch 25/100, Loss: 2.9345113013653044, Accuracy: 0.9943333333333333\n",
      "Epoch 26/100, Loss: 2.934149595017129, Accuracy: 0.9944583333333333\n",
      "Epoch 27/100, Loss: 2.933282197789943, Accuracy: 0.9949583333333333\n",
      "Epoch 28/100, Loss: 2.9320596532618746, Accuracy: 0.9956041666666666\n",
      "Epoch 29/100, Loss: 2.932212657116829, Accuracy: 0.9953125\n",
      "Epoch 30/100, Loss: 2.9310224259153324, Accuracy: 0.9959166666666667\n",
      "Epoch 31/100, Loss: 2.9312817289474165, Accuracy: 0.9959375\n",
      "Epoch 32/100, Loss: 2.9308469396956425, Accuracy: 0.9960208333333334\n",
      "Epoch 33/100, Loss: 2.9294308753723795, Accuracy: 0.9966875\n",
      "Epoch 34/100, Loss: 2.928917311607523, Accuracy: 0.9969375\n",
      "Epoch 35/100, Loss: 2.9285056438851864, Accuracy: 0.9970625\n",
      "Epoch 36/100, Loss: 2.9281893030126045, Accuracy: 0.9971875\n",
      "Epoch 37/100, Loss: 2.9280196910208844, Accuracy: 0.9973958333333334\n",
      "Epoch 38/100, Loss: 2.927989219097381, Accuracy: 0.9973958333333334\n",
      "Epoch 39/100, Loss: 2.927360752795605, Accuracy: 0.9976666666666667\n",
      "Epoch 40/100, Loss: 2.928656096154071, Accuracy: 0.9970416666666667\n",
      "Epoch 41/100, Loss: 2.927881753191035, Accuracy: 0.9973958333333334\n",
      "Epoch 42/100, Loss: 2.927206222047197, Accuracy: 0.9977708333333334\n",
      "Epoch 43/100, Loss: 2.927460736416756, Accuracy: 0.9975833333333334\n",
      "Epoch 44/100, Loss: 2.9271568085284945, Accuracy: 0.9978125\n",
      "Epoch 45/100, Loss: 2.9275755628626396, Accuracy: 0.9975208333333333\n",
      "Epoch 46/100, Loss: 2.9274011977175447, Accuracy: 0.9975625\n",
      "Epoch 47/100, Loss: 2.9268768036619144, Accuracy: 0.9978541666666667\n",
      "Epoch 48/100, Loss: 2.926817330908268, Accuracy: 0.9978958333333333\n",
      "Epoch 49/100, Loss: 2.9271625204289213, Accuracy: 0.9977291666666667\n",
      "Epoch 50/100, Loss: 2.92834350403319, Accuracy: 0.997125\n",
      "Epoch 51/100, Loss: 2.927538181873078, Accuracy: 0.9975416666666667\n",
      "Epoch 52/100, Loss: 2.9268870708790233, Accuracy: 0.9978541666666667\n",
      "Epoch 53/100, Loss: 2.9270624201348485, Accuracy: 0.9977708333333334\n",
      "Epoch 54/100, Loss: 2.9273710605945995, Accuracy: 0.9975208333333333\n",
      "Epoch 55/100, Loss: 2.9266417736702777, Accuracy: 0.9979583333333333\n",
      "Epoch 56/100, Loss: 2.9273076666162368, Accuracy: 0.9976458333333333\n",
      "Epoch 57/100, Loss: 2.927357272898897, Accuracy: 0.9976041666666666\n",
      "Epoch 58/100, Loss: 2.9270371629836713, Accuracy: 0.9977708333333334\n",
      "Epoch 59/100, Loss: 2.9279273418670004, Accuracy: 0.9974583333333333\n",
      "Epoch 60/100, Loss: 2.9271974360689206, Accuracy: 0.9976458333333333\n",
      "Epoch 61/100, Loss: 2.926947735725565, Accuracy: 0.9978125\n",
      "Epoch 62/100, Loss: 2.9263399408218707, Accuracy: 0.9980833333333333\n",
      "Epoch 63/100, Loss: 2.9258647117208927, Accuracy: 0.99825\n",
      "Epoch 64/100, Loss: 2.927273227813396, Accuracy: 0.9976041666666666\n",
      "Epoch 65/100, Loss: 2.9273000270762344, Accuracy: 0.9975833333333334\n",
      "Epoch 66/100, Loss: 2.926469351382966, Accuracy: 0.998\n",
      "Epoch 67/100, Loss: 2.9263122233938663, Accuracy: 0.9980416666666667\n",
      "Epoch 68/100, Loss: 2.926051068813243, Accuracy: 0.9981458333333333\n",
      "Epoch 69/100, Loss: 2.926014824116484, Accuracy: 0.9982291666666666\n",
      "Epoch 70/100, Loss: 2.9265848220662867, Accuracy: 0.9979583333333333\n",
      "Epoch 71/100, Loss: 2.9267187575076488, Accuracy: 0.9978333333333333\n",
      "Epoch 72/100, Loss: 2.927384183761921, Accuracy: 0.9976041666666666\n",
      "Epoch 73/100, Loss: 2.9270314206468298, Accuracy: 0.9977083333333333\n",
      "Epoch 74/100, Loss: 2.927613532289546, Accuracy: 0.9974791666666667\n",
      "Epoch 75/100, Loss: 2.926893599489902, Accuracy: 0.9978333333333333\n",
      "Epoch 76/100, Loss: 2.9275760853544193, Accuracy: 0.9974791666666667\n",
      "Epoch 77/100, Loss: 2.926518983029305, Accuracy: 0.998\n",
      "Epoch 78/100, Loss: 2.92633902772944, Accuracy: 0.9980208333333334\n",
      "Epoch 79/100, Loss: 2.9269277897286923, Accuracy: 0.99775\n",
      "Epoch 80/100, Loss: 2.9263038280162403, Accuracy: 0.9981041666666667\n",
      "Epoch 81/100, Loss: 2.927763888176451, Accuracy: 0.9973541666666667\n",
      "Epoch 82/100, Loss: 2.928210126592758, Accuracy: 0.9971041666666667\n",
      "Epoch 83/100, Loss: 2.9282617010968797, Accuracy: 0.9970625\n",
      "Epoch 84/100, Loss: 2.926580195731305, Accuracy: 0.9978958333333333\n",
      "Epoch 85/100, Loss: 2.9264943802610355, Accuracy: 0.9979375\n",
      "Epoch 86/100, Loss: 2.9274601733430905, Accuracy: 0.9975208333333333\n",
      "Epoch 87/100, Loss: 2.9269517736232027, Accuracy: 0.9977291666666667\n",
      "Epoch 88/100, Loss: 2.927466798335948, Accuracy: 0.9974166666666666\n",
      "Epoch 89/100, Loss: 2.9275758266448975, Accuracy: 0.9974791666666667\n",
      "Epoch 90/100, Loss: 2.9280555298987854, Accuracy: 0.9971458333333333\n",
      "Epoch 91/100, Loss: 2.9278298540318266, Accuracy: 0.9973125\n",
      "Epoch 92/100, Loss: 2.9285550929130393, Accuracy: 0.9969166666666667\n",
      "Epoch 93/100, Loss: 2.9268825104896057, Accuracy: 0.9977291666666667\n",
      "Epoch 94/100, Loss: 2.9277003369432815, Accuracy: 0.9973333333333333\n",
      "Epoch 95/100, Loss: 2.926707069924537, Accuracy: 0.9977916666666666\n",
      "Epoch 96/100, Loss: 2.9267436139127043, Accuracy: 0.9978333333333333\n",
      "Epoch 97/100, Loss: 2.9268810038870954, Accuracy: 0.9977291666666667\n",
      "Epoch 98/100, Loss: 2.9259613169000502, Accuracy: 0.9982291666666666\n",
      "Epoch 99/100, Loss: 2.926411664232295, Accuracy: 0.9979791666666666\n",
      "Epoch 100/100, Loss: 2.925696834604791, Accuracy: 0.9983333333333333\n"
     ]
    },
    {
     "data": {
      "image/png": "[encoded data removed]",
      "text/plain": [
       "<Figure size 640x480 with 1 Axes>"
      ]
     },
     "metadata": {},
     "output_type": "display_data"
    },
    {
     "data": {
      "image/png": "[encoded data removed]",
      "text/plain": [
       "<Figure size 640x480 with 1 Axes>"
      ]
     },
     "metadata": {},
     "output_type": "display_data"
    }
   ],
   "source": [
    "# Create an instance of the model\n",
    "model = Net()\n",
    "\n",
    "# Define the loss function and optimizer\n",
    "criterion = nn.CrossEntropyLoss()\n",
    "optimizer = optim.Adam(model.parameters(), lr=0.002)\n",
    "\n",
    "# Train the model\n",
    "num_epochs = 100\n",
    "device = torch.device(\"cuda\" if torch.cuda.is_available() else \"cpu\")\n",
    "model.to(device)\n",
    "\n",
    "\n",
    "import matplotlib.pyplot as plt\n",
    "\n",
    "# Initialize empty lists to store loss and accuracy values\n",
    "train_loss_values = []\n",
    "train_accuracy_values = []\n",
    "\n",
    "# Training loop\n",
    "for epoch in range(num_epochs):\n",
    "    model.train()\n",
    "    running_loss = 0.0\n",
    "    correct_predictions = 0\n",
    "    total_predictions = 0\n",
    "\n",
    "    for images, labels in train_loader:\n",
    "        # ... (rest of the training code)\n",
    "        images = images.to(device)\n",
    "        labels = labels.to(device)\n",
    "\n",
    "        optimizer.zero_grad()\n",
    "\n",
    "        outputs = model(images)\n",
    "        loss = criterion(outputs, labels)\n",
    "        loss.backward()\n",
    "        optimizer.step()\n",
    "\n",
    "        running_loss += loss.item()\n",
    "\n",
    "        # Calculate accuracy\n",
    "        _, predicted_labels = torch.max(outputs.data, 1)\n",
    "        total_predictions += labels.size(0)\n",
    "        correct_predictions += (predicted_labels == labels).sum().item()\n",
    "\n",
    "        running_loss += loss.item()\n",
    "\n",
    "    # Calculate average loss and accuracy for the epoch\n",
    "    average_loss = running_loss / len(train_loader)\n",
    "    accuracy = correct_predictions / total_predictions\n",
    "\n",
    "    # Append loss and accuracy values to the lists\n",
    "    train_loss_values.append(average_loss)\n",
    "    train_accuracy_values.append(accuracy)\n",
    "\n",
    "    print(f\"Epoch {epoch + 1}/{num_epochs}, Loss: {average_loss}, Accuracy: {accuracy}\")\n",
    "\n",
    "# Plotting the loss curve\n",
    "plt.plot(range(1, num_epochs + 1), train_loss_values)\n",
    "plt.xlabel('Epoch')\n",
    "plt.ylabel('Loss')\n",
    "plt.title('Training Loss Curve')\n",
    "plt.show()\n",
    "\n",
    "# Plotting the accuracy curve\n",
    "plt.plot(range(1, num_epochs + 1), train_accuracy_values)\n",
    "plt.xlabel('Epoch')\n",
    "plt.ylabel('Accuracy')\n",
    "plt.title('Training Accuracy Curve')\n",
    "plt.show()\n"
   ]
  },
  {
   "cell_type": "markdown",
   "id": "6046ee0f",
   "metadata": {
    "papermill": {
     "duration": 0.01327,
     "end_time": "2024-08-28T19:37:16.132646",
     "exception": false,
     "start_time": "2024-08-28T19:37:16.119376",
     "status": "completed"
    },
    "tags": []
   },
   "source": [
    "# Evaluate the model on the validation set"
   ]
  },
  {
   "cell_type": "code",
   "execution_count": 8,
   "id": "b760d1eb",
   "metadata": {
    "execution": {
     "iopub.execute_input": "2024-08-28T19:37:16.161822Z",
     "iopub.status.busy": "2024-08-28T19:37:16.161107Z",
     "iopub.status.idle": "2024-08-28T19:37:26.935521Z",
     "shell.execute_reply": "2024-08-28T19:37:26.934136Z"
    },
    "papermill": {
     "duration": 10.791891,
     "end_time": "2024-08-28T19:37:26.938024",
     "exception": false,
     "start_time": "2024-08-28T19:37:16.146133",
     "status": "completed"
    },
    "tags": []
   },
   "outputs": [
    {
     "name": "stdout",
     "output_type": "stream",
     "text": [
      "Validation Accuracy: 99.03333333333333%\n",
      "Test Accuracy: 99.15%\n"
     ]
    }
   ],
   "source": [
    "# Evaluate the model on the validation set\n",
    "model.eval()\n",
    "correct = 0\n",
    "total = 0\n",
    "\n",
    "with torch.no_grad():\n",
    "    for images, labels in val_loader:\n",
    "        images = images.to(device)\n",
    "        labels = labels.to(device)\n",
    "\n",
    "        outputs = model(images)\n",
    "        _, predicted = torch.max(outputs.data, 1)\n",
    "        total += labels.size(0)\n",
    "        correct += (predicted == labels).sum().item()\n",
    "\n",
    "accuracy = 100 * correct / total\n",
    "print(f\"Validation Accuracy: {accuracy}%\")\n",
    "\n",
    "# Evaluate the model on the test set\n",
    "model.eval()\n",
    "correct = 0\n",
    "total = 0\n",
    "\n",
    "with torch.no_grad():\n",
    "    for images, labels in test_loader:\n",
    "        images = images.to(device)\n",
    "        labels = labels.to(device)\n",
    "\n",
    "        outputs = model(images)\n",
    "        _, predicted = torch.max(outputs.data, 1)\n",
    "        total += labels.size(0)\n",
    "        correct += (predicted == labels).sum().item()\n",
    "\n",
    "accuracy = 100 * correct / total\n",
    "print(f\"Test Accuracy: {accuracy}%\")"
   ]
  }
 ],
 "metadata": {
  "kaggle": {
   "accelerator": "gpu",
   "dataSources": [
    {
     "datasetId": 5608854,
     "sourceId": 9268486,
     "sourceType": "datasetVersion"
    }
   ],
   "dockerImageVersionId": 30762,
   "isGpuEnabled": true,
   "isInternetEnabled": true,
   "language": "python",
   "sourceType": "notebook"
  },
  "kernelspec": {
   "display_name": "Python 3",
   "language": "python",
   "name": "python3"
  },
  "language_info": {
   "codemirror_mode": {
    "name": "ipython",
    "version": 3
   },
   "file_extension": ".py",
   "mimetype": "text/x-python",
   "name": "python",
   "nbconvert_exporter": "python",
   "pygments_lexer": "ipython3",
   "version": "3.10.14"
  },
  "papermill": {
   "default_parameters": {},
   "duration": 1316.283423,
   "end_time": "2024-08-28T19:37:28.576303",
   "environment_variables": {},
   "exception": null,
   "input_path": "__notebook__.ipynb",
   "output_path": "__notebook__.ipynb",
   "parameters": {},
   "start_time": "2024-08-28T19:15:32.292880",
   "version": "2.6.0"
  }
 },
 "nbformat": 4,
 "nbformat_minor": 5
}
